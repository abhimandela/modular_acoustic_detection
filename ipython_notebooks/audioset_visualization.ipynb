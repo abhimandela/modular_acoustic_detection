{
 "cells": [
  {
   "cell_type": "code",
   "execution_count": null,
   "metadata": {
    "collapsed": true
   },
   "outputs": [],
   "source": [
    "import pandas as pd\n",
    "import numpy as np\n",
    "import matplotlib.pyplot as plt\n",
    "\n",
    "from sklearn.model_selection import GridSearchCV, StratifiedKFold\n",
    "from sklearn.ensemble import GradientBoostingClassifier, RandomForestClassifier\n",
    "from sklearn.linear_model import LogisticRegression\n",
    "from sklearn.decomposition import PCA\n",
    "from sklearn.manifold import TSNE\n",
    "\n",
    "from youtube_audioset import get_data, get_all_sound_names"
   ]
  },
  {
   "cell_type": "code",
   "execution_count": null,
   "metadata": {
    "collapsed": true
   },
   "outputs": [],
   "source": [
    "ambient_sounds, impact_sounds = get_all_sound_names()"
   ]
  },
  {
   "cell_type": "code",
   "execution_count": null,
   "metadata": {
    "collapsed": false
   },
   "outputs": [],
   "source": [
    "df, labels_binarized = get_data()"
   ]
  },
  {
   "cell_type": "code",
   "execution_count": null,
   "metadata": {
    "collapsed": false
   },
   "outputs": [],
   "source": [
    "print df.shape[0], \"examples\"\n",
    "\n",
    "print \"Percentage Impact Sounds:\", (labels_binarized[impact_sounds].sum(axis=1) > 0).mean()\n",
    "print \"Percentage Ambient Sounds:\", (labels_binarized[ambient_sounds].sum(axis=1) > 0).mean()\n",
    "\n",
    "labels_binarized.mean()"
   ]
  },
  {
   "cell_type": "markdown",
   "metadata": {},
   "source": [
    "A majority of the sounds are vehicle sounds.  The distribution of sounds is not well balanced, which can be mitigated by adding sample weight when training a classifier.\n",
    "\n",
    "The abundance of examples should make it easier to generalize the classifier without excessive tuning.\n",
    "\n",
    "The percentages with respect to ambient and impact sounds do not sum to 1.  This is due to clips which contain multiple sounds (e.g. a clip with a vehicle driving in the rain)."
   ]
  },
  {
   "cell_type": "code",
   "execution_count": null,
   "metadata": {
    "collapsed": false
   },
   "outputs": [],
   "source": [
    "X = np.array(df.features.apply(lambda x: x.max(axis=0)).tolist())\n",
    "\n",
    "centroids = []\n",
    "for column in labels_binarized.columns:\n",
    "    if labels_binarized[column].sum() == 0:\n",
    "        centroids += [np.repeat(128, X.shape[1])]\n",
    "    else:\n",
    "        centroids += [X[labels_binarized[column] == 1,:].mean(axis=0)]\n",
    "centroids = np.array(centroids)"
   ]
  },
  {
   "cell_type": "code",
   "execution_count": null,
   "metadata": {
    "collapsed": false
   },
   "outputs": [],
   "source": [
    "pca_ = PCA()\n",
    "x_pca_ = pca_.fit_transform(X)\n",
    "centroids_pca_ = pca_.transform(centroids)\n",
    "\n",
    "plt.figure(figsize=(20,20))\n",
    "\n",
    "plt.scatter(centroids_pca_[:,0], centroids_pca_[:,1],\n",
    "            c=map(lambda x: x in impact_sounds, labels_binarized.columns),\n",
    "            s=100, edgecolors='none')\n",
    "for i, txt in enumerate(labels_binarized.columns):\n",
    "    plt.annotate(txt, (centroids_pca_[i,0],centroids_pca_[i,1]))\n",
    "\n",
    "plt.show()"
   ]
  },
  {
   "cell_type": "markdown",
   "metadata": {},
   "source": [
    "As expected similar sounds are grouped together.  The motor sounds lie in a seperate space.  The climate sounds also lie in their own space.  Explosion sounds are clustered together, but they are somewhat similar to wood sounds.\n",
    "\n",
    "Even in 2-dimensional space, it looks like impact sounds can be separated from ambient sounds with a linear classifier.  Where a non-linear classifier will excel is with \"Howl\" and \"Thunderstorm\"."
   ]
  },
  {
   "cell_type": "code",
   "execution_count": null,
   "metadata": {
    "collapsed": false,
    "scrolled": false
   },
   "outputs": [],
   "source": [
    "tsne_ = TSNE()\n",
    "centroids_tsne_ = tsne_.fit_transform(centroids)\n",
    "\n",
    "plt.figure(figsize=(20,20))\n",
    "\n",
    "plt.scatter(centroids_tsne_[:,0], centroids_tsne_[:,1],\n",
    "            c=map(lambda x: x in impact_sounds, labels_binarized.columns),\n",
    "            s=100, edgecolors='none')\n",
    "for i, txt in enumerate(labels_binarized.columns):\n",
    "    plt.annotate(txt, (centroids_tsne_[i,0],centroids_tsne_[i,1]))\n",
    "\n",
    "plt.show()"
   ]
  },
  {
   "cell_type": "markdown",
   "metadata": {},
   "source": [
    "Since the points are equally spread out, this t-SNE plot doesn't say much."
   ]
  }
 ],
 "metadata": {
  "kernelspec": {
   "display_name": "Python 2",
   "language": "python",
   "name": "python2"
  },
  "language_info": {
   "codemirror_mode": {
    "name": "ipython",
    "version": 2
   },
   "file_extension": ".py",
   "mimetype": "text/x-python",
   "name": "python",
   "nbconvert_exporter": "python",
   "pygments_lexer": "ipython2",
   "version": "2.7.12"
  }
 },
 "nbformat": 4,
 "nbformat_minor": 2
}
